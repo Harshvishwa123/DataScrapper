{
 "cells": [
  {
   "cell_type": "code",
   "execution_count": 1,
   "id": "b4a36112",
   "metadata": {},
   "outputs": [
    {
     "name": "stdout",
     "output_type": "stream",
     "text": [
      "🕒 Total duration across all videos: 358.92 hours\n"
     ]
    }
   ],
   "source": [
    "import os\n",
    "import json\n",
    "\n",
    "# Path to your output folder\n",
    "OUTPUT_DIR = \"D:\\\\output1\"\n",
    "\n",
    "def get_total_duration_in_hours(folder_path):\n",
    "    total_seconds = 0\n",
    "    for filename in os.listdir(folder_path):\n",
    "        if filename.endswith(\".json\"):\n",
    "            json_path = os.path.join(folder_path, filename)\n",
    "            try:\n",
    "                with open(json_path, \"r\", encoding=\"utf-8\") as f:\n",
    "                    data = json.load(f)\n",
    "                    duration = data.get(\"duration\")\n",
    "                    if isinstance(duration, (int, float)):\n",
    "                        total_seconds += duration\n",
    "            except Exception as e:\n",
    "                print(f\"⚠️ Skipping {filename}: {e}\")\n",
    "\n",
    "    total_hours = total_seconds / 3600\n",
    "    return total_hours\n",
    "\n",
    "if __name__ == \"__main__\":\n",
    "    hours = get_total_duration_in_hours(OUTPUT_DIR)\n",
    "    print(f\"🕒 Total duration across all videos: {hours:.2f} hours\")"
   ]
  },
  {
   "cell_type": "code",
   "execution_count": 1,
   "id": "34c96860",
   "metadata": {},
   "outputs": [
    {
     "name": "stdout",
     "output_type": "stream",
     "text": [
      "🕒 Total duration across all videos: 396.21 hours\n"
     ]
    }
   ],
   "source": [
    "import os\n",
    "import json\n",
    "\n",
    "# Path to your output folder\n",
    "OUTPUT_DIR = \"D:\\\\output\"\n",
    "\n",
    "def get_total_duration_in_hours(folder_path):\n",
    "    total_seconds = 0\n",
    "    for filename in os.listdir(folder_path):\n",
    "        if filename.endswith(\".json\"):\n",
    "            json_path = os.path.join(folder_path, filename)\n",
    "            try:\n",
    "                with open(json_path, \"r\", encoding=\"utf-8\") as f:\n",
    "                    data = json.load(f)\n",
    "                    duration = data.get(\"duration\")\n",
    "                    if isinstance(duration, (int, float)):\n",
    "                        total_seconds += duration\n",
    "            except Exception as e:\n",
    "                print(f\"⚠️ Skipping {filename}: {e}\")\n",
    "\n",
    "    total_hours = total_seconds / 3600\n",
    "    return total_hours\n",
    "\n",
    "if __name__ == \"__main__\":\n",
    "    hours = get_total_duration_in_hours(OUTPUT_DIR)\n",
    "    print(f\"🕒 Total duration across all videos: {hours:.2f} hours\")"
   ]
  },
  {
   "cell_type": "code",
   "execution_count": 1,
   "id": "75ec9350",
   "metadata": {},
   "outputs": [
    {
     "name": "stdout",
     "output_type": "stream",
     "text": [
      "🕒 Total duration across all videos: 404.47 hours\n"
     ]
    }
   ],
   "source": [
    "import os\n",
    "import json\n",
    "\n",
    "# Path to your output folder\n",
    "OUTPUT_DIR = \"D:\\\\output1\"\n",
    "\n",
    "def get_total_duration_in_hours(folder_path):\n",
    "    total_seconds = 0\n",
    "    for filename in os.listdir(folder_path):\n",
    "        if filename.endswith(\".json\"):\n",
    "            json_path = os.path.join(folder_path, filename)\n",
    "            try:\n",
    "                with open(json_path, \"r\", encoding=\"utf-8\") as f:\n",
    "                    data = json.load(f)\n",
    "                    duration = data.get(\"duration\")\n",
    "                    if isinstance(duration, (int, float)):\n",
    "                        total_seconds += duration\n",
    "            except Exception as e:\n",
    "                print(f\"⚠️ Skipping {filename}: {e}\")\n",
    "\n",
    "    total_hours = total_seconds / 3600\n",
    "    return total_hours\n",
    "\n",
    "if __name__ == \"__main__\":\n",
    "    hours = get_total_duration_in_hours(OUTPUT_DIR)\n",
    "    print(f\"🕒 Total duration across all videos: {hours:.2f} hours\")"
   ]
  }
 ],
 "metadata": {
  "kernelspec": {
   "display_name": "Python 3",
   "language": "python",
   "name": "python3"
  },
  "language_info": {
   "codemirror_mode": {
    "name": "ipython",
    "version": 3
   },
   "file_extension": ".py",
   "mimetype": "text/x-python",
   "name": "python",
   "nbconvert_exporter": "python",
   "pygments_lexer": "ipython3",
   "version": "3.11.9"
  }
 },
 "nbformat": 4,
 "nbformat_minor": 5
}
